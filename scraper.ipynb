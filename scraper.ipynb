{
 "cells": [
  {
   "cell_type": "code",
   "execution_count": 32,
   "metadata": {},
   "outputs": [
    {
     "name": "stdout",
     "output_type": "stream",
     "text": [
      "Requirement already satisfied: selenium in /Volumes/Venkatesh/Development/VScodeProjects/github-manireddy1997/venv/lib/python3.11/site-packages (4.25.0)\n",
      "Requirement already satisfied: urllib3[socks]<3,>=1.26 in /Volumes/Venkatesh/Development/VScodeProjects/github-manireddy1997/venv/lib/python3.11/site-packages (from selenium) (2.2.1)\n",
      "Requirement already satisfied: trio~=0.17 in /Volumes/Venkatesh/Development/VScodeProjects/github-manireddy1997/venv/lib/python3.11/site-packages (from selenium) (0.26.2)\n",
      "Requirement already satisfied: trio-websocket~=0.9 in /Volumes/Venkatesh/Development/VScodeProjects/github-manireddy1997/venv/lib/python3.11/site-packages (from selenium) (0.11.1)\n",
      "Requirement already satisfied: certifi>=2021.10.8 in /Volumes/Venkatesh/Development/VScodeProjects/github-manireddy1997/venv/lib/python3.11/site-packages (from selenium) (2024.6.2)\n",
      "Requirement already satisfied: typing_extensions~=4.9 in /Volumes/Venkatesh/Development/VScodeProjects/github-manireddy1997/venv/lib/python3.11/site-packages (from selenium) (4.12.2)\n",
      "Requirement already satisfied: websocket-client~=1.8 in /Volumes/Venkatesh/Development/VScodeProjects/github-manireddy1997/venv/lib/python3.11/site-packages (from selenium) (1.8.0)\n",
      "Requirement already satisfied: attrs>=23.2.0 in /Volumes/Venkatesh/Development/VScodeProjects/github-manireddy1997/venv/lib/python3.11/site-packages (from trio~=0.17->selenium) (24.2.0)\n",
      "Requirement already satisfied: sortedcontainers in /Volumes/Venkatesh/Development/VScodeProjects/github-manireddy1997/venv/lib/python3.11/site-packages (from trio~=0.17->selenium) (2.4.0)\n",
      "Requirement already satisfied: idna in /Volumes/Venkatesh/Development/VScodeProjects/github-manireddy1997/venv/lib/python3.11/site-packages (from trio~=0.17->selenium) (3.7)\n",
      "Requirement already satisfied: outcome in /Volumes/Venkatesh/Development/VScodeProjects/github-manireddy1997/venv/lib/python3.11/site-packages (from trio~=0.17->selenium) (1.3.0.post0)\n",
      "Requirement already satisfied: sniffio>=1.3.0 in /Volumes/Venkatesh/Development/VScodeProjects/github-manireddy1997/venv/lib/python3.11/site-packages (from trio~=0.17->selenium) (1.3.1)\n",
      "Requirement already satisfied: wsproto>=0.14 in /Volumes/Venkatesh/Development/VScodeProjects/github-manireddy1997/venv/lib/python3.11/site-packages (from trio-websocket~=0.9->selenium) (1.2.0)\n",
      "Requirement already satisfied: pysocks!=1.5.7,<2.0,>=1.5.6 in /Volumes/Venkatesh/Development/VScodeProjects/github-manireddy1997/venv/lib/python3.11/site-packages (from urllib3[socks]<3,>=1.26->selenium) (1.7.1)\n",
      "Requirement already satisfied: h11<1,>=0.9.0 in /Volumes/Venkatesh/Development/VScodeProjects/github-manireddy1997/venv/lib/python3.11/site-packages (from wsproto>=0.14->trio-websocket~=0.9->selenium) (0.14.0)\n",
      "\n",
      "\u001b[1m[\u001b[0m\u001b[34;49mnotice\u001b[0m\u001b[1;39;49m]\u001b[0m\u001b[39;49m A new release of pip available: \u001b[0m\u001b[31;49m22.3\u001b[0m\u001b[39;49m -> \u001b[0m\u001b[32;49m24.2\u001b[0m\n",
      "\u001b[1m[\u001b[0m\u001b[34;49mnotice\u001b[0m\u001b[1;39;49m]\u001b[0m\u001b[39;49m To update, run: \u001b[0m\u001b[32;49mpip install --upgrade pip\u001b[0m\n",
      "Collecting webdriver_manager\n",
      "  Using cached webdriver_manager-4.0.2-py2.py3-none-any.whl (27 kB)\n",
      "Requirement already satisfied: requests in /Volumes/Venkatesh/Development/VScodeProjects/github-manireddy1997/venv/lib/python3.11/site-packages (from webdriver_manager) (2.32.3)\n",
      "Collecting python-dotenv\n",
      "  Using cached python_dotenv-1.0.1-py3-none-any.whl (19 kB)\n",
      "Requirement already satisfied: packaging in /Volumes/Venkatesh/Development/VScodeProjects/github-manireddy1997/venv/lib/python3.11/site-packages (from webdriver_manager) (24.1)\n",
      "Requirement already satisfied: charset-normalizer<4,>=2 in /Volumes/Venkatesh/Development/VScodeProjects/github-manireddy1997/venv/lib/python3.11/site-packages (from requests->webdriver_manager) (3.3.2)\n",
      "Requirement already satisfied: idna<4,>=2.5 in /Volumes/Venkatesh/Development/VScodeProjects/github-manireddy1997/venv/lib/python3.11/site-packages (from requests->webdriver_manager) (3.7)\n",
      "Requirement already satisfied: urllib3<3,>=1.21.1 in /Volumes/Venkatesh/Development/VScodeProjects/github-manireddy1997/venv/lib/python3.11/site-packages (from requests->webdriver_manager) (2.2.1)\n",
      "Requirement already satisfied: certifi>=2017.4.17 in /Volumes/Venkatesh/Development/VScodeProjects/github-manireddy1997/venv/lib/python3.11/site-packages (from requests->webdriver_manager) (2024.6.2)\n",
      "Installing collected packages: python-dotenv, webdriver_manager\n",
      "Successfully installed python-dotenv webdriver_manager\n",
      "\n",
      "\u001b[1m[\u001b[0m\u001b[34;49mnotice\u001b[0m\u001b[1;39;49m]\u001b[0m\u001b[39;49m A new release of pip available: \u001b[0m\u001b[31;49m22.3\u001b[0m\u001b[39;49m -> \u001b[0m\u001b[32;49m24.2\u001b[0m\n",
      "\u001b[1m[\u001b[0m\u001b[34;49mnotice\u001b[0m\u001b[1;39;49m]\u001b[0m\u001b[39;49m To update, run: \u001b[0m\u001b[32;49mpip install --upgrade pip\u001b[0m\n",
      "Collecting fake_useragent\n",
      "  Downloading fake_useragent-1.5.1-py3-none-any.whl (17 kB)\n",
      "Installing collected packages: fake_useragent\n",
      "Successfully installed fake_useragent\n",
      "\n",
      "\u001b[1m[\u001b[0m\u001b[34;49mnotice\u001b[0m\u001b[1;39;49m]\u001b[0m\u001b[39;49m A new release of pip available: \u001b[0m\u001b[31;49m22.3\u001b[0m\u001b[39;49m -> \u001b[0m\u001b[32;49m24.2\u001b[0m\n",
      "\u001b[1m[\u001b[0m\u001b[34;49mnotice\u001b[0m\u001b[1;39;49m]\u001b[0m\u001b[39;49m To update, run: \u001b[0m\u001b[32;49mpip install --upgrade pip\u001b[0m\n"
     ]
    }
   ],
   "source": [
    "!python3 -m pip install selenium\n",
    "!python3 -m pip install webdriver_manager\n",
    "!python3 -m pip install fake_useragent"
   ]
  },
  {
   "cell_type": "code",
   "execution_count": 34,
   "metadata": {},
   "outputs": [],
   "source": [
    "from selenium import webdriver\n",
    "from selenium.webdriver.common.by import By\n",
    "from webdriver_manager.chrome import ChromeDriverManager\n",
    "from selenium.common.exceptions import NoSuchElementException\n",
    "from fake_useragent import UserAgent\n",
    "import pandas as pd\n",
    "from selenium.webdriver.chrome.service import Service\n",
    "\n",
    "ua = UserAgent()\n",
    "userAgent = ua.chrome\n",
    "\n",
    "chrome_options = webdriver.ChromeOptions()\n",
    "# chrome_options.add_argument('--headless')\n",
    "chrome_options.add_argument('--no-sandbox')\n",
    "chrome_options.add_argument('--disable-dev-shm-usage')\n",
    "chrome_options.add_argument(f'user-agent={userAgent}')\n",
    "\n",
    "path = ChromeDriverManager().install()\n",
    "driver = webdriver.Chrome(service=Service(path), options=chrome_options)"
   ]
  },
  {
   "cell_type": "code",
   "execution_count": 35,
   "metadata": {},
   "outputs": [],
   "source": [
    "baseURL = 'https://www.linkedin.com/login?fromSignIn=true&trk=guest_homepage-basic_nav-header-signin'\n",
    "# baseURL = 'https://www.linkedin.com/in/manikanta-reddy-kallam'"
   ]
  },
  {
   "cell_type": "code",
   "execution_count": 36,
   "metadata": {},
   "outputs": [
    {
     "name": "stdout",
     "output_type": "stream",
     "text": [
      "Page Title: LinkedIn Login, Sign in | LinkedIn\n"
     ]
    }
   ],
   "source": [
    "driver.get(baseURL)\n",
    "\n",
    "# Get the page title\n",
    "page_title = driver.title\n",
    "print(f\"Page Title: {page_title}\")"
   ]
  },
  {
   "cell_type": "code",
   "execution_count": 38,
   "metadata": {},
   "outputs": [],
   "source": [
    "#Login Page \n",
    "emailField = driver.find_element(By.XPATH,'//*[@id=\"username\"]')\n",
    "passField = driver.find_element(By.XPATH,'//*[@id=\"password\"]')\n",
    "emailField.clear()\n",
    "passField.clear()\n",
    "emailField.send_keys(\"manikantareddykallam29@gmail.com\")\n",
    "passField.send_keys(\"Lattu@0202\")\n",
    "\n",
    "signInButton = driver.find_element(By.XPATH,'//*[@id=\"organic-div\"]/form/div[3]/button') # mobile view button\n",
    "# signInButton = driver.find_element(By.XPATH,'//*[@id=\"organic-div\"]/form/div[4]/button') # web view button\n",
    "signInButton.click()"
   ]
  },
  {
   "cell_type": "code",
   "execution_count": 40,
   "metadata": {},
   "outputs": [],
   "source": [
    "userProfileLink = 'https://www.linkedin.com/in/manikanta-kallam/'\n",
    "driver.get(userProfileLink)"
   ]
  },
  {
   "cell_type": "code",
   "execution_count": 33,
   "metadata": {},
   "outputs": [],
   "source": [
    "driver.quit()"
   ]
  }
 ],
 "metadata": {
  "kernelspec": {
   "display_name": "Python 3.11.0 ('venv': venv)",
   "language": "python",
   "name": "python3"
  },
  "language_info": {
   "codemirror_mode": {
    "name": "ipython",
    "version": 3
   },
   "file_extension": ".py",
   "mimetype": "text/x-python",
   "name": "python",
   "nbconvert_exporter": "python",
   "pygments_lexer": "ipython3",
   "version": "3.11.0"
  },
  "orig_nbformat": 4,
  "vscode": {
   "interpreter": {
    "hash": "befc819bda9b8a3f0afacd8fd4ff5a488e14cbceb4d1915538bfcbf672948302"
   }
  }
 },
 "nbformat": 4,
 "nbformat_minor": 2
}
